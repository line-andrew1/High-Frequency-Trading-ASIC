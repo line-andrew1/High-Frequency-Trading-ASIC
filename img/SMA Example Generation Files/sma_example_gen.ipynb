{
 "cells": [
  {
   "cell_type": "code",
   "execution_count": null,
   "metadata": {},
   "outputs": [],
   "source": [
    "import matplotlib.pyplot as plt\n",
    "import matplotlib.cbook as cbook\n",
    "\n",
    "import numpy as np\n",
    "import pandas as pd"
   ]
  },
  {
   "cell_type": "code",
   "execution_count": null,
   "metadata": {},
   "outputs": [],
   "source": [
    "# Read the CSV file\n",
    "data = pd.read_csv('C:/Users/andre/Downloads/HistoricalData_1716059634672.csv')\n",
    "\n",
    "# Convert the 'Date' column to datetime\n",
    "data['Date'] = pd.to_datetime(data['Date'])\n",
    "\n",
    "# Remove the '$' sign and commas, then convert the financial data to float\n",
    "data['Close/Last'] = data['Close/Last'].replace('[\\$,]', '', regex=True).astype(float)\n",
    "data['Open'] = data['Open'].replace('[\\$,]', '', regex=True).astype(float)\n",
    "data['High'] = data['High'].replace('[\\$,]', '', regex=True).astype(float)\n",
    "data['Low'] = data['Low'].replace('[\\$,]', '', regex=True).astype(float)\n",
    "\n",
    "# Calculate the 5-day Simple Moving Average (SMA)\n",
    "data['SMA_5'] = data['Close/Last'].rolling(window=5).mean()\n",
    "\n",
    "# Define the positive and negative thresholds (e.g., ±2% of the SMA)\n",
    "threshold_percentage = 0.01\n",
    "data['Threshold_Pos'] = data['SMA_5'] * (1 + threshold_percentage)\n",
    "data['Threshold_Neg'] = data['SMA_5'] * (1 - threshold_percentage)\n",
    "\n",
    "# Display the first few rows to check the data\n",
    "print(data.head())\n",
    "\n",
    "# Plot the data\n",
    "plt.figure(figsize=(10, 6))\n",
    "\n",
    "plt.plot(data['Date'], data['Close/Last'], label='Close/Last')\n",
    "plt.plot(data['Date'], data['SMA_5'], label='5-day SMA', linestyle='--')\n",
    "plt.plot(data['Date'], data['Threshold_Pos'], label='Positive Threshold', linestyle='--', color='green')\n",
    "plt.plot(data['Date'], data['Threshold_Neg'], label='Negative Threshold', linestyle='--', color='red')\n",
    "\n",
    "# Add shading above the positive threshold\n",
    "plt.fill_between(data['Date'], data['Close/Last'], data['Threshold_Pos'],\n",
    "                 where=(data['Close/Last'] > data['Threshold_Pos']), color='green', alpha=0.3)\n",
    "\n",
    "# Add shading below the negative threshold\n",
    "plt.fill_between(data['Date'], data['Close/Last'], data['Threshold_Neg'],\n",
    "                 where=(data['Close/Last'] < data['Threshold_Neg']), color='red', alpha=0.3)\n",
    "\n",
    "plt.xlabel('Date')\n",
    "plt.ylabel('Price ($)')\n",
    "plt.title('Stock Prices with 5-day SMA and Thresholds')\n",
    "plt.legend()\n",
    "plt.grid(True)\n",
    "plt.xticks(rotation=45)\n",
    "plt.tight_layout()\n",
    "\n",
    "# Show the plot\n",
    "plt.show()"
   ]
  }
 ],
 "metadata": {
  "language_info": {
   "name": "python"
  }
 },
 "nbformat": 4,
 "nbformat_minor": 2
}
